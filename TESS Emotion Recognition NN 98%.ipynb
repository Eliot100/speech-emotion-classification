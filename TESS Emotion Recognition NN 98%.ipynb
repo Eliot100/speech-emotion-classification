{
  "nbformat": 4,
  "nbformat_minor": 0,
  "metadata": {
    "colab": {
      "name": "TESS Emotion Recognition - NN 98.75%.ipynb",
      "provenance": []
    },
    "kernelspec": {
      "name": "python3",
      "display_name": "Python 3"
    },
    "language_info": {
      "name": "python"
    }
  },
  "cells": [
    {
      "cell_type": "code",
      "metadata": {
        "colab": {
          "base_uri": "https://localhost:8080/"
        },
        "id": "n8vXN97Po1JS",
        "outputId": "5e889f84-73c7-4cd4-add5-cdb16688aaec"
      },
      "source": [
        "!pip install pydub\n",
        "\n",
        "import numpy as np\n",
        "import pandas as pd\n",
        "import glob\n",
        "from pydub import AudioSegment\n",
        "\n",
        "from google.colab import drive\n",
        "drive.mount('/content/drive')\n",
        "\n",
        "from sklearn.model_selection import train_test_split\n",
        "\n",
        "import tensorflow as tf\n",
        "from tensorflow.keras import Sequential\n",
        "\n",
        "from sklearn.decomposition import PCA\n",
        "from sklearn.metrics import confusion_matrix\n",
        "from sklearn.metrics import classification_report\n",
        "import matplotlib.pyplot as plt"
      ],
      "execution_count": 1,
      "outputs": [
        {
          "output_type": "stream",
          "text": [
            "Requirement already satisfied: pydub in /usr/local/lib/python3.7/dist-packages (0.25.1)\n",
            "Drive already mounted at /content/drive; to attempt to forcibly remount, call drive.mount(\"/content/drive\", force_remount=True).\n"
          ],
          "name": "stdout"
        }
      ]
    },
    {
      "cell_type": "code",
      "metadata": {
        "colab": {
          "base_uri": "https://localhost:8080/",
          "height": 414
        },
        "id": "PeLUfhB2pDFl",
        "outputId": "2de340fa-55cf-4d96-d471-3be9a7b2ea1e"
      },
      "source": [
        "data = {      'emotion': [],\n",
        "              'age': [],\n",
        "              'word': [],\n",
        "              'path': [],\n",
        "        }\n",
        "df = pd.DataFrame(data=data)\n",
        " \n",
        "start_age_index = 62\n",
        "start_word_index = 71\n",
        "end_word_index = 5\n",
        "age_size = 3\n",
        "for foldr in glob.glob(r'/content/drive/MyDrive/TESS Toronto emotional speech set data/*'):\n",
        "  # print(foldr)\n",
        "  age = foldr[start_age_index:(start_age_index+age_size)]\n",
        "  emotion = foldr[(start_age_index+age_size+1):].lower()\n",
        "  emotion_size = len(emotion)\n",
        "  if (emotion == \"pleasant_surprise\"):\n",
        "    emotion_size2 = 2\n",
        "  else :\n",
        "    emotion_size2 = emotion_size\n",
        "  for file_name in glob.glob(foldr+'/*'):\n",
        "    # print(file_name)\n",
        "    word = file_name[(start_word_index+emotion_size):-(end_word_index+emotion_size2)]\n",
        "    df = df.append(pd.Series([emotion, age, word, file_name], index = df.columns), ignore_index=True)\n",
        "df"
      ],
      "execution_count": 2,
      "outputs": [
        {
          "output_type": "execute_result",
          "data": {
            "text/html": [
              "<div>\n",
              "<style scoped>\n",
              "    .dataframe tbody tr th:only-of-type {\n",
              "        vertical-align: middle;\n",
              "    }\n",
              "\n",
              "    .dataframe tbody tr th {\n",
              "        vertical-align: top;\n",
              "    }\n",
              "\n",
              "    .dataframe thead th {\n",
              "        text-align: right;\n",
              "    }\n",
              "</style>\n",
              "<table border=\"1\" class=\"dataframe\">\n",
              "  <thead>\n",
              "    <tr style=\"text-align: right;\">\n",
              "      <th></th>\n",
              "      <th>emotion</th>\n",
              "      <th>age</th>\n",
              "      <th>word</th>\n",
              "      <th>path</th>\n",
              "    </tr>\n",
              "  </thead>\n",
              "  <tbody>\n",
              "    <tr>\n",
              "      <th>0</th>\n",
              "      <td>fear</td>\n",
              "      <td>YAF</td>\n",
              "      <td>boat</td>\n",
              "      <td>/content/drive/MyDrive/TESS Toronto emotional ...</td>\n",
              "    </tr>\n",
              "    <tr>\n",
              "      <th>1</th>\n",
              "      <td>fear</td>\n",
              "      <td>YAF</td>\n",
              "      <td>door</td>\n",
              "      <td>/content/drive/MyDrive/TESS Toronto emotional ...</td>\n",
              "    </tr>\n",
              "    <tr>\n",
              "      <th>2</th>\n",
              "      <td>fear</td>\n",
              "      <td>YAF</td>\n",
              "      <td>base</td>\n",
              "      <td>/content/drive/MyDrive/TESS Toronto emotional ...</td>\n",
              "    </tr>\n",
              "    <tr>\n",
              "      <th>3</th>\n",
              "      <td>fear</td>\n",
              "      <td>YAF</td>\n",
              "      <td>fail</td>\n",
              "      <td>/content/drive/MyDrive/TESS Toronto emotional ...</td>\n",
              "    </tr>\n",
              "    <tr>\n",
              "      <th>4</th>\n",
              "      <td>fear</td>\n",
              "      <td>YAF</td>\n",
              "      <td>dog</td>\n",
              "      <td>/content/drive/MyDrive/TESS Toronto emotional ...</td>\n",
              "    </tr>\n",
              "    <tr>\n",
              "      <th>...</th>\n",
              "      <td>...</td>\n",
              "      <td>...</td>\n",
              "      <td>...</td>\n",
              "      <td>...</td>\n",
              "    </tr>\n",
              "    <tr>\n",
              "      <th>2795</th>\n",
              "      <td>sad</td>\n",
              "      <td>OAF</td>\n",
              "      <td>shout</td>\n",
              "      <td>/content/drive/MyDrive/TESS Toronto emotional ...</td>\n",
              "    </tr>\n",
              "    <tr>\n",
              "      <th>2796</th>\n",
              "      <td>sad</td>\n",
              "      <td>OAF</td>\n",
              "      <td>search</td>\n",
              "      <td>/content/drive/MyDrive/TESS Toronto emotional ...</td>\n",
              "    </tr>\n",
              "    <tr>\n",
              "      <th>2797</th>\n",
              "      <td>sad</td>\n",
              "      <td>OAF</td>\n",
              "      <td>turn</td>\n",
              "      <td>/content/drive/MyDrive/TESS Toronto emotional ...</td>\n",
              "    </tr>\n",
              "    <tr>\n",
              "      <th>2798</th>\n",
              "      <td>sad</td>\n",
              "      <td>OAF</td>\n",
              "      <td>said</td>\n",
              "      <td>/content/drive/MyDrive/TESS Toronto emotional ...</td>\n",
              "    </tr>\n",
              "    <tr>\n",
              "      <th>2799</th>\n",
              "      <td>sad</td>\n",
              "      <td>OAF</td>\n",
              "      <td>tool</td>\n",
              "      <td>/content/drive/MyDrive/TESS Toronto emotional ...</td>\n",
              "    </tr>\n",
              "  </tbody>\n",
              "</table>\n",
              "<p>2800 rows × 4 columns</p>\n",
              "</div>"
            ],
            "text/plain": [
              "     emotion  age    word                                               path\n",
              "0       fear  YAF    boat  /content/drive/MyDrive/TESS Toronto emotional ...\n",
              "1       fear  YAF    door  /content/drive/MyDrive/TESS Toronto emotional ...\n",
              "2       fear  YAF    base  /content/drive/MyDrive/TESS Toronto emotional ...\n",
              "3       fear  YAF    fail  /content/drive/MyDrive/TESS Toronto emotional ...\n",
              "4       fear  YAF     dog  /content/drive/MyDrive/TESS Toronto emotional ...\n",
              "...      ...  ...     ...                                                ...\n",
              "2795     sad  OAF   shout  /content/drive/MyDrive/TESS Toronto emotional ...\n",
              "2796     sad  OAF  search  /content/drive/MyDrive/TESS Toronto emotional ...\n",
              "2797     sad  OAF    turn  /content/drive/MyDrive/TESS Toronto emotional ...\n",
              "2798     sad  OAF    said  /content/drive/MyDrive/TESS Toronto emotional ...\n",
              "2799     sad  OAF    tool  /content/drive/MyDrive/TESS Toronto emotional ...\n",
              "\n",
              "[2800 rows x 4 columns]"
            ]
          },
          "metadata": {
            "tags": []
          },
          "execution_count": 2
        }
      ]
    },
    {
      "cell_type": "code",
      "metadata": {
        "id": "RycyD62TpDOt"
      },
      "source": [
        "del start_age_index, start_word_index, end_word_index, age_size, age, emotion, emotion_size2, word"
      ],
      "execution_count": 3,
      "outputs": []
    },
    {
      "cell_type": "code",
      "metadata": {
        "colab": {
          "base_uri": "https://localhost:8080/",
          "height": 202
        },
        "id": "6_dZWRPBpDRr",
        "outputId": "224283d3-912a-42c7-e565-9a96767211f8"
      },
      "source": [
        "df0 = df.copy()\n",
        "\n",
        "max_length = 145172\n",
        "zero_signal = np.zeros(max_length)\n",
        "\n",
        "def get_signal(file_name):\n",
        "    signal = zero_signal.copy()\n",
        "    temp_signal = AudioSegment.from_file(file_name)\n",
        "    temp_signal = np.array(temp_signal.get_array_of_samples())\n",
        "    signal_size = temp_signal.size\n",
        "    signal[:signal_size] = temp_signal\n",
        "    return signal\n",
        "df0['signal'] = df0.apply(lambda x: get_signal(x.path), axis=1)\n",
        "\n",
        "df0 = df0.drop(\"path\", axis=1)\n",
        "\n",
        "df0['emotion'] = pd.factorize(df0['emotion'])[0]\n",
        "df0['age'] = pd.factorize(df0['age'])[0]\n",
        "df0['word'] = pd.factorize(df0['word'])[0] \n",
        "\n",
        "from scipy import signal\n",
        "sample_rate = 24414\n",
        "df0[\"spectrogram\"] = df0[\"signal\"].apply(lambda x: signal.spectrogram(x, sample_rate)[2])\n",
        "del max_length, zero_signal, signal, sample_rate, df\n",
        "df0.head()"
      ],
      "execution_count": 4,
      "outputs": [
        {
          "output_type": "execute_result",
          "data": {
            "text/html": [
              "<div>\n",
              "<style scoped>\n",
              "    .dataframe tbody tr th:only-of-type {\n",
              "        vertical-align: middle;\n",
              "    }\n",
              "\n",
              "    .dataframe tbody tr th {\n",
              "        vertical-align: top;\n",
              "    }\n",
              "\n",
              "    .dataframe thead th {\n",
              "        text-align: right;\n",
              "    }\n",
              "</style>\n",
              "<table border=\"1\" class=\"dataframe\">\n",
              "  <thead>\n",
              "    <tr style=\"text-align: right;\">\n",
              "      <th></th>\n",
              "      <th>emotion</th>\n",
              "      <th>age</th>\n",
              "      <th>word</th>\n",
              "      <th>signal</th>\n",
              "      <th>spectrogram</th>\n",
              "    </tr>\n",
              "  </thead>\n",
              "  <tbody>\n",
              "    <tr>\n",
              "      <th>0</th>\n",
              "      <td>0</td>\n",
              "      <td>0</td>\n",
              "      <td>0</td>\n",
              "      <td>[1.0, -7.0, -5.0, -19.0, -5.0, -9.0, -10.0, -3...</td>\n",
              "      <td>[[0.01363698373069844, 0.0013370595595961988, ...</td>\n",
              "    </tr>\n",
              "    <tr>\n",
              "      <th>1</th>\n",
              "      <td>0</td>\n",
              "      <td>0</td>\n",
              "      <td>1</td>\n",
              "      <td>[4.0, 10.0, 4.0, 9.0, 10.0, 11.0, 14.0, 11.0, ...</td>\n",
              "      <td>[[0.002735955422796827, 0.008905613503153229, ...</td>\n",
              "    </tr>\n",
              "    <tr>\n",
              "      <th>2</th>\n",
              "      <td>0</td>\n",
              "      <td>0</td>\n",
              "      <td>2</td>\n",
              "      <td>[2.0, 2.0, -27.0, -1.0, -24.0, -19.0, -6.0, -9...</td>\n",
              "      <td>[[0.05522940238613436, 0.016889906784899253, 0...</td>\n",
              "    </tr>\n",
              "    <tr>\n",
              "      <th>3</th>\n",
              "      <td>0</td>\n",
              "      <td>0</td>\n",
              "      <td>3</td>\n",
              "      <td>[-3.0, -4.0, -8.0, -5.0, -1.0, -9.0, -11.0, -8...</td>\n",
              "      <td>[[0.08350087992224602, 0.051509937951149484, 0...</td>\n",
              "    </tr>\n",
              "    <tr>\n",
              "      <th>4</th>\n",
              "      <td>0</td>\n",
              "      <td>0</td>\n",
              "      <td>4</td>\n",
              "      <td>[0.0, -6.0, -6.0, -4.0, -15.0, -24.0, -11.0, -...</td>\n",
              "      <td>[[0.001120991867091304, 0.002038129456855195, ...</td>\n",
              "    </tr>\n",
              "  </tbody>\n",
              "</table>\n",
              "</div>"
            ],
            "text/plain": [
              "   emotion  ...                                        spectrogram\n",
              "0        0  ...  [[0.01363698373069844, 0.0013370595595961988, ...\n",
              "1        0  ...  [[0.002735955422796827, 0.008905613503153229, ...\n",
              "2        0  ...  [[0.05522940238613436, 0.016889906784899253, 0...\n",
              "3        0  ...  [[0.08350087992224602, 0.051509937951149484, 0...\n",
              "4        0  ...  [[0.001120991867091304, 0.002038129456855195, ...\n",
              "\n",
              "[5 rows x 5 columns]"
            ]
          },
          "metadata": {
            "tags": []
          },
          "execution_count": 4
        }
      ]
    },
    {
      "cell_type": "code",
      "metadata": {
        "id": "zgzJKY8FpDUS"
      },
      "source": [
        "def get_spectrogram_mat(df):\n",
        "    mat = np.zeros((df.shape[0], 44646))\n",
        "    mat[:, 0] = np.array(df.emotion)\n",
        "    mat[:, 1] = np.array(df.age)\n",
        "    mat[:, 2] = np.array(df.word)\n",
        "    for i in range(df.shape[0]):\n",
        "        mat[i, 3:] = df.spectrogram.iloc[i][:-60].reshape(44643)\n",
        "    return mat"
      ],
      "execution_count": 5,
      "outputs": []
    },
    {
      "cell_type": "code",
      "metadata": {
        "id": "k2ALaEnppU0j"
      },
      "source": [
        "temp_mat = get_spectrogram_mat(df0)\n",
        "temp_X = temp_mat[:,1:]\n",
        "temp_Y = temp_mat[:,0]\n",
        "\n",
        "pca = PCA(n_components=1000).fit(temp_X)\n",
        "X_transform = pca.transform(temp_X)\n",
        "X_train, X_test, y_train, y_test = train_test_split(X_transform, temp_Y, test_size=0.2, random_state=1)"
      ],
      "execution_count": 6,
      "outputs": []
    },
    {
      "cell_type": "code",
      "metadata": {
        "colab": {
          "base_uri": "https://localhost:8080/"
        },
        "id": "Za6zJD76FROl",
        "outputId": "16e8602e-b00c-4619-b95f-a6087821868e"
      },
      "source": [
        "model = tf.keras.Sequential([\n",
        "    tf.keras.layers.Flatten(input_shape=(1, X_transform.shape[1])),\n",
        "    tf.keras.layers.LayerNormalization(axis=-1, epsilon=0.001, center=True, scale=True, beta_initializer='zeros', gamma_initializer='ones'),\n",
        "    tf.keras.layers.Dense(10000, activation='relu'),\n",
        "    tf.keras.layers.Dense(5000, activation='relu'),\n",
        "    tf.keras.layers.Dense(800, activation='relu'),\n",
        "    tf.keras.layers.Dense(7)\n",
        "])\n",
        "\n",
        "model.compile(optimizer=tf.keras.optimizers.SGD(learning_rate=0.01, momentum=0.09, nesterov=True, name='SGD',),\n",
        "              loss=tf.keras.losses.SparseCategoricalCrossentropy(from_logits=True, ),\n",
        "              metrics=['accuracy'])\n",
        "\n",
        "mc = tf.keras.callbacks.ModelCheckpoint('best_model', monitor='val_accuracy', mode='max', verbose=1, save_best_only=True)\n",
        "history = model.fit(X_train, y_train, epochs=20, validation_data=(X_test, y_test), callbacks=[mc]) # es, \n",
        "saved_model = tf.keras.models.load_model('best_model')"
      ],
      "execution_count": 7,
      "outputs": [
        {
          "output_type": "stream",
          "text": [
            "Epoch 1/20\n",
            "WARNING:tensorflow:Model was constructed with shape (None, 1, 1000) for input KerasTensor(type_spec=TensorSpec(shape=(None, 1, 1000), dtype=tf.float32, name='flatten_input'), name='flatten_input', description=\"created by layer 'flatten_input'\"), but it was called on an input with incompatible shape (32, 1000).\n",
            "WARNING:tensorflow:Model was constructed with shape (None, 1, 1000) for input KerasTensor(type_spec=TensorSpec(shape=(None, 1, 1000), dtype=tf.float32, name='flatten_input'), name='flatten_input', description=\"created by layer 'flatten_input'\"), but it was called on an input with incompatible shape (32, 1000).\n",
            "70/70 [==============================] - ETA: 0s - loss: 0.7042 - accuracy: 0.8219WARNING:tensorflow:Model was constructed with shape (None, 1, 1000) for input KerasTensor(type_spec=TensorSpec(shape=(None, 1, 1000), dtype=tf.float32, name='flatten_input'), name='flatten_input', description=\"created by layer 'flatten_input'\"), but it was called on an input with incompatible shape (None, 1000).\n",
            "70/70 [==============================] - 25s 349ms/step - loss: 0.7042 - accuracy: 0.8219 - val_loss: 0.4805 - val_accuracy: 0.8500\n",
            "\n",
            "Epoch 00001: val_accuracy improved from -inf to 0.85000, saving model to best_model\n",
            "INFO:tensorflow:Assets written to: best_model/assets\n",
            "Epoch 2/20\n",
            "70/70 [==============================] - 24s 346ms/step - loss: 0.2073 - accuracy: 0.9621 - val_loss: 0.1523 - val_accuracy: 0.9696\n",
            "\n",
            "Epoch 00002: val_accuracy improved from 0.85000 to 0.96964, saving model to best_model\n",
            "INFO:tensorflow:Assets written to: best_model/assets\n",
            "Epoch 3/20\n",
            "70/70 [==============================] - 28s 406ms/step - loss: 0.1175 - accuracy: 0.9795 - val_loss: 0.1236 - val_accuracy: 0.9714\n",
            "\n",
            "Epoch 00003: val_accuracy improved from 0.96964 to 0.97143, saving model to best_model\n",
            "INFO:tensorflow:Assets written to: best_model/assets\n",
            "Epoch 4/20\n",
            "70/70 [==============================] - 26s 369ms/step - loss: 0.0828 - accuracy: 0.9862 - val_loss: 0.1058 - val_accuracy: 0.9732\n",
            "\n",
            "Epoch 00004: val_accuracy improved from 0.97143 to 0.97321, saving model to best_model\n",
            "INFO:tensorflow:Assets written to: best_model/assets\n",
            "Epoch 5/20\n",
            "70/70 [==============================] - 26s 374ms/step - loss: 0.0585 - accuracy: 0.9911 - val_loss: 0.1040 - val_accuracy: 0.9696\n",
            "\n",
            "Epoch 00005: val_accuracy did not improve from 0.97321\n",
            "Epoch 6/20\n",
            "70/70 [==============================] - 26s 370ms/step - loss: 0.0443 - accuracy: 0.9933 - val_loss: 0.0820 - val_accuracy: 0.9804\n",
            "\n",
            "Epoch 00006: val_accuracy improved from 0.97321 to 0.98036, saving model to best_model\n",
            "INFO:tensorflow:Assets written to: best_model/assets\n",
            "Epoch 7/20\n",
            "70/70 [==============================] - 26s 377ms/step - loss: 0.0368 - accuracy: 0.9951 - val_loss: 0.0760 - val_accuracy: 0.9839\n",
            "\n",
            "Epoch 00007: val_accuracy improved from 0.98036 to 0.98393, saving model to best_model\n",
            "INFO:tensorflow:Assets written to: best_model/assets\n",
            "Epoch 8/20\n",
            "70/70 [==============================] - 26s 373ms/step - loss: 0.0307 - accuracy: 0.9969 - val_loss: 0.1279 - val_accuracy: 0.9643\n",
            "\n",
            "Epoch 00008: val_accuracy did not improve from 0.98393\n",
            "Epoch 9/20\n",
            "70/70 [==============================] - 26s 373ms/step - loss: 0.0274 - accuracy: 0.9978 - val_loss: 0.0737 - val_accuracy: 0.9821\n",
            "\n",
            "Epoch 00009: val_accuracy did not improve from 0.98393\n",
            "Epoch 10/20\n",
            "70/70 [==============================] - 26s 374ms/step - loss: 0.0240 - accuracy: 0.9964 - val_loss: 0.0641 - val_accuracy: 0.9875\n",
            "\n",
            "Epoch 00010: val_accuracy improved from 0.98393 to 0.98750, saving model to best_model\n",
            "INFO:tensorflow:Assets written to: best_model/assets\n",
            "Epoch 11/20\n",
            "70/70 [==============================] - 27s 378ms/step - loss: 0.0220 - accuracy: 0.9973 - val_loss: 0.0608 - val_accuracy: 0.9857\n",
            "\n",
            "Epoch 00011: val_accuracy did not improve from 0.98750\n",
            "Epoch 12/20\n",
            "70/70 [==============================] - 26s 379ms/step - loss: 0.0188 - accuracy: 0.9982 - val_loss: 0.0585 - val_accuracy: 0.9821\n",
            "\n",
            "Epoch 00012: val_accuracy did not improve from 0.98750\n",
            "Epoch 13/20\n",
            "70/70 [==============================] - 27s 380ms/step - loss: 0.0173 - accuracy: 0.9987 - val_loss: 0.0569 - val_accuracy: 0.9857\n",
            "\n",
            "Epoch 00013: val_accuracy did not improve from 0.98750\n",
            "Epoch 14/20\n",
            "70/70 [==============================] - 26s 377ms/step - loss: 0.0154 - accuracy: 0.9996 - val_loss: 0.0570 - val_accuracy: 0.9857\n",
            "\n",
            "Epoch 00014: val_accuracy did not improve from 0.98750\n",
            "Epoch 15/20\n",
            "70/70 [==============================] - 26s 378ms/step - loss: 0.0143 - accuracy: 0.9978 - val_loss: 0.0548 - val_accuracy: 0.9857\n",
            "\n",
            "Epoch 00015: val_accuracy did not improve from 0.98750\n",
            "Epoch 16/20\n",
            "70/70 [==============================] - 26s 377ms/step - loss: 0.0121 - accuracy: 0.9987 - val_loss: 0.0553 - val_accuracy: 0.9857\n",
            "\n",
            "Epoch 00016: val_accuracy did not improve from 0.98750\n",
            "Epoch 17/20\n",
            "70/70 [==============================] - 26s 376ms/step - loss: 0.0136 - accuracy: 0.9982 - val_loss: 0.0541 - val_accuracy: 0.9875\n",
            "\n",
            "Epoch 00017: val_accuracy did not improve from 0.98750\n",
            "Epoch 18/20\n",
            "70/70 [==============================] - 27s 381ms/step - loss: 0.0115 - accuracy: 0.9996 - val_loss: 0.0540 - val_accuracy: 0.9875\n",
            "\n",
            "Epoch 00018: val_accuracy did not improve from 0.98750\n",
            "Epoch 19/20\n",
            "70/70 [==============================] - 26s 374ms/step - loss: 0.0103 - accuracy: 0.9987 - val_loss: 0.0545 - val_accuracy: 0.9875\n",
            "\n",
            "Epoch 00019: val_accuracy did not improve from 0.98750\n",
            "Epoch 20/20\n",
            "70/70 [==============================] - 26s 378ms/step - loss: 0.0107 - accuracy: 0.9987 - val_loss: 0.0542 - val_accuracy: 0.9857\n",
            "\n",
            "Epoch 00020: val_accuracy did not improve from 0.98750\n"
          ],
          "name": "stdout"
        }
      ]
    },
    {
      "cell_type": "code",
      "metadata": {
        "colab": {
          "base_uri": "https://localhost:8080/",
          "height": 573
        },
        "id": "9GGlUgwvIG5W",
        "outputId": "2f605f98-15ad-4eb0-d2fd-ca5d240b0a04"
      },
      "source": [
        "plt.plot(history.history['accuracy'])\n",
        "plt.plot(history.history['val_accuracy'])\n",
        "plt.title('model accuracy')\n",
        "plt.ylabel('accuracy')\n",
        "plt.xlabel('epoch')\n",
        "plt.legend(['train', 'test'], loc='upper left')\n",
        "plt.show()\n",
        "\n",
        "plt.plot(history.history['loss'])\n",
        "plt.plot(history.history['val_loss'])\n",
        "plt.title('model loss')\n",
        "plt.ylabel('loss')\n",
        "plt.xlabel('epoch')\n",
        "plt.legend(['train', 'test'], loc='upper left')\n",
        "plt.show()"
      ],
      "execution_count": 8,
      "outputs": [
        {
          "output_type": "display_data",
          "data": {
            "image/png": "[encoded data removed]",
            "text/plain": [
              "<Figure size 432x288 with 1 Axes>"
            ]
          },
          "metadata": {
            "tags": [],
            "needs_background": "light"
          }
        },
        {
          "output_type": "display_data",
          "data": {
            "image/png": "[encoded data removed]",
            "text/plain": [
              "<Figure size 432x288 with 1 Axes>"
            ]
          },
          "metadata": {
            "tags": [],
            "needs_background": "light"
          }
        }
      ]
    },
    {
      "cell_type": "code",
      "metadata": {
        "colab": {
          "base_uri": "https://localhost:8080/"
        },
        "id": "UV9xU0K1IKQJ",
        "outputId": "550ffc74-14c5-4337-a46d-28c997391c7e"
      },
      "source": [
        "y_pred = model.predict_classes(X_test)\n",
        "target_names = ['angry', 'disgust', 'fear', 'happy', 'neutral', 'pleasant_surprise', 'sad']\n",
        "print(classification_report(y_test, y_pred, target_names=target_names))\n",
        "print(confusion_matrix(y_pred, y_test))"
      ],
      "execution_count": 9,
      "outputs": [
        {
          "output_type": "stream",
          "text": [
            "WARNING:tensorflow:Model was constructed with shape (None, 1, 1000) for input KerasTensor(type_spec=TensorSpec(shape=(None, 1, 1000), dtype=tf.float32, name='flatten_input'), name='flatten_input', description=\"created by layer 'flatten_input'\"), but it was called on an input with incompatible shape (None, 1000).\n"
          ],
          "name": "stdout"
        },
        {
          "output_type": "stream",
          "text": [
            "/usr/local/lib/python3.7/dist-packages/tensorflow/python/keras/engine/sequential.py:455: UserWarning: `model.predict_classes()` is deprecated and will be removed after 2021-01-01. Please use instead:* `np.argmax(model.predict(x), axis=-1)`,   if your model does multi-class classification   (e.g. if it uses a `softmax` last-layer activation).* `(model.predict(x) > 0.5).astype(\"int32\")`,   if your model does binary classification   (e.g. if it uses a `sigmoid` last-layer activation).\n",
            "  warnings.warn('`model.predict_classes()` is deprecated and '\n"
          ],
          "name": "stderr"
        },
        {
          "output_type": "stream",
          "text": [
            "                   precision    recall  f1-score   support\n",
            "\n",
            "            angry       1.00      1.00      1.00        78\n",
            "          disgust       0.97      0.99      0.98        87\n",
            "             fear       0.99      1.00      0.99        83\n",
            "            happy       0.98      0.95      0.97        87\n",
            "          neutral       0.99      1.00      0.99        67\n",
            "pleasant_surprise       1.00      0.98      0.99        83\n",
            "              sad       0.99      0.99      0.99        75\n",
            "\n",
            "         accuracy                           0.99       560\n",
            "        macro avg       0.99      0.99      0.99       560\n",
            "     weighted avg       0.99      0.99      0.99       560\n",
            "\n",
            "[[78  0  0  0  0  0  0]\n",
            " [ 0 86  0  3  0  0  0]\n",
            " [ 0  0 83  1  0  0  0]\n",
            " [ 0  0  0 83  0  2  0]\n",
            " [ 0  0  0  0 67  0  1]\n",
            " [ 0  0  0  0  0 81  0]\n",
            " [ 0  1  0  0  0  0 74]]\n"
          ],
          "name": "stdout"
        }
      ]
    }
  ]
}